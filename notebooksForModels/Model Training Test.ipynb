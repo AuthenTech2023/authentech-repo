{
 "cells": [
  {
   "cell_type": "markdown",
   "id": "e1113fb5",
   "metadata": {},
   "source": [
    "# Model Training Test"
   ]
  },
  {
   "cell_type": "markdown",
   "id": "10461855",
   "metadata": {},
   "source": [
    "Small scale test to train a KNN model"
   ]
  },
  {
   "cell_type": "markdown",
   "id": "18721df5",
   "metadata": {},
   "source": []
  },
  {
   "cell_type": "code",
   "execution_count": 13,
   "id": "b4a2f3c0",
   "metadata": {},
   "outputs": [],
   "source": [
    "import pandas as pd\n",
    "import seaborn as sb\n",
    "import numpy as np\n",
    "import sklearn as sk\n",
    "import matplotlib as plt\n",
    "%matplotlib inline"
   ]
  },
  {
   "cell_type": "code",
   "execution_count": 19,
   "id": "99515159",
   "metadata": {},
   "outputs": [],
   "source": [
    "df = pd.read_csv('Model Training\\Test Data\\ExpTestData1.csv', )"
   ]
  },
  {
   "cell_type": "code",
   "execution_count": 51,
   "id": "34e681b6",
   "metadata": {},
   "outputs": [
    {
     "data": {
      "text/html": [
       "<div>\n",
       "<style scoped>\n",
       "    .dataframe tbody tr th:only-of-type {\n",
       "        vertical-align: middle;\n",
       "    }\n",
       "\n",
       "    .dataframe tbody tr th {\n",
       "        vertical-align: top;\n",
       "    }\n",
       "\n",
       "    .dataframe thead th {\n",
       "        text-align: right;\n",
       "    }\n",
       "</style>\n",
       "<table border=\"1\" class=\"dataframe\">\n",
       "  <thead>\n",
       "    <tr style=\"text-align: right;\">\n",
       "      <th></th>\n",
       "      <th>Timestamp</th>\n",
       "      <th>X</th>\n",
       "      <th>Y</th>\n",
       "      <th>BTN_TOUCH</th>\n",
       "      <th>TOUCH_MAJOR</th>\n",
       "      <th>TOUCH_MINOR</th>\n",
       "      <th>TRACKING_ID</th>\n",
       "      <th>PRESSURE</th>\n",
       "      <th>FINGER</th>\n",
       "      <th>USER</th>\n",
       "    </tr>\n",
       "  </thead>\n",
       "  <tbody>\n",
       "    <tr>\n",
       "      <th>0</th>\n",
       "      <td>0.000000</td>\n",
       "      <td>350</td>\n",
       "      <td>1404</td>\n",
       "      <td>DOWN</td>\n",
       "      <td>11</td>\n",
       "      <td>-420</td>\n",
       "      <td>2526</td>\n",
       "      <td>38</td>\n",
       "      <td>0</td>\n",
       "      <td>0</td>\n",
       "    </tr>\n",
       "    <tr>\n",
       "      <th>1</th>\n",
       "      <td>0.032676</td>\n",
       "      <td>348</td>\n",
       "      <td>1406</td>\n",
       "      <td>HELD</td>\n",
       "      <td>11</td>\n",
       "      <td>-420</td>\n",
       "      <td>2526</td>\n",
       "      <td>38</td>\n",
       "      <td>0</td>\n",
       "      <td>0</td>\n",
       "    </tr>\n",
       "    <tr>\n",
       "      <th>2</th>\n",
       "      <td>0.042109</td>\n",
       "      <td>347</td>\n",
       "      <td>1408</td>\n",
       "      <td>HELD</td>\n",
       "      <td>11</td>\n",
       "      <td>-420</td>\n",
       "      <td>2526</td>\n",
       "      <td>38</td>\n",
       "      <td>0</td>\n",
       "      <td>0</td>\n",
       "    </tr>\n",
       "    <tr>\n",
       "      <th>3</th>\n",
       "      <td>0.049881</td>\n",
       "      <td>344</td>\n",
       "      <td>1411</td>\n",
       "      <td>HELD</td>\n",
       "      <td>11</td>\n",
       "      <td>-420</td>\n",
       "      <td>2526</td>\n",
       "      <td>38</td>\n",
       "      <td>0</td>\n",
       "      <td>0</td>\n",
       "    </tr>\n",
       "    <tr>\n",
       "      <th>4</th>\n",
       "      <td>0.058581</td>\n",
       "      <td>340</td>\n",
       "      <td>1416</td>\n",
       "      <td>HELD</td>\n",
       "      <td>11</td>\n",
       "      <td>-420</td>\n",
       "      <td>2526</td>\n",
       "      <td>38</td>\n",
       "      <td>0</td>\n",
       "      <td>0</td>\n",
       "    </tr>\n",
       "  </tbody>\n",
       "</table>\n",
       "</div>"
      ],
      "text/plain": [
       "   Timestamp    X     Y BTN_TOUCH  TOUCH_MAJOR  TOUCH_MINOR  TRACKING_ID  \\\n",
       "0   0.000000  350  1404      DOWN           11         -420         2526   \n",
       "1   0.032676  348  1406      HELD           11         -420         2526   \n",
       "2   0.042109  347  1408      HELD           11         -420         2526   \n",
       "3   0.049881  344  1411      HELD           11         -420         2526   \n",
       "4   0.058581  340  1416      HELD           11         -420         2526   \n",
       "\n",
       "   PRESSURE  FINGER  USER  \n",
       "0        38       0     0  \n",
       "1        38       0     0  \n",
       "2        38       0     0  \n",
       "3        38       0     0  \n",
       "4        38       0     0  "
      ]
     },
     "execution_count": 51,
     "metadata": {},
     "output_type": "execute_result"
    }
   ],
   "source": [
    "df.head()"
   ]
  },
  {
   "cell_type": "code",
   "execution_count": 21,
   "id": "a3ee2d5b",
   "metadata": {},
   "outputs": [
    {
     "name": "stdout",
     "output_type": "stream",
     "text": [
      "<class 'pandas.core.frame.DataFrame'>\n",
      "RangeIndex: 1998 entries, 0 to 1997\n",
      "Data columns (total 10 columns):\n",
      " #   Column       Non-Null Count  Dtype  \n",
      "---  ------       --------------  -----  \n",
      " 0   Timestamp    1998 non-null   float64\n",
      " 1   X            1998 non-null   int64  \n",
      " 2   Y            1998 non-null   int64  \n",
      " 3   BTN_TOUCH    1991 non-null   object \n",
      " 4   TOUCH_MAJOR  1998 non-null   int64  \n",
      " 5   TOUCH_MINOR  1998 non-null   int64  \n",
      " 6   TRACKING_ID  1998 non-null   int64  \n",
      " 7   PRESSURE     1998 non-null   int64  \n",
      " 8   FINGER       1998 non-null   int64  \n",
      " 9   USER         1998 non-null   int64  \n",
      "dtypes: float64(1), int64(8), object(1)\n",
      "memory usage: 156.2+ KB\n"
     ]
    }
   ],
   "source": [
    "df.info()"
   ]
  },
  {
   "cell_type": "code",
   "execution_count": 37,
   "id": "f00cb169",
   "metadata": {},
   "outputs": [
    {
     "data": {
      "text/html": [
       "<div>\n",
       "<style scoped>\n",
       "    .dataframe tbody tr th:only-of-type {\n",
       "        vertical-align: middle;\n",
       "    }\n",
       "\n",
       "    .dataframe tbody tr th {\n",
       "        vertical-align: top;\n",
       "    }\n",
       "\n",
       "    .dataframe thead th {\n",
       "        text-align: right;\n",
       "    }\n",
       "</style>\n",
       "<table border=\"1\" class=\"dataframe\">\n",
       "  <thead>\n",
       "    <tr style=\"text-align: right;\">\n",
       "      <th></th>\n",
       "      <th>Timestamp</th>\n",
       "      <th>X</th>\n",
       "      <th>Y</th>\n",
       "      <th>TOUCH_MAJOR</th>\n",
       "      <th>TOUCH_MINOR</th>\n",
       "      <th>TRACKING_ID</th>\n",
       "      <th>PRESSURE</th>\n",
       "      <th>FINGER</th>\n",
       "      <th>USER</th>\n",
       "    </tr>\n",
       "  </thead>\n",
       "  <tbody>\n",
       "    <tr>\n",
       "      <th>count</th>\n",
       "      <td>1998.000000</td>\n",
       "      <td>1998.000000</td>\n",
       "      <td>1998.000000</td>\n",
       "      <td>1998.000000</td>\n",
       "      <td>1998.0</td>\n",
       "      <td>1.998000e+03</td>\n",
       "      <td>1998.000000</td>\n",
       "      <td>1998.000000</td>\n",
       "      <td>1998.000000</td>\n",
       "    </tr>\n",
       "    <tr>\n",
       "      <th>mean</th>\n",
       "      <td>5.923562</td>\n",
       "      <td>390.512012</td>\n",
       "      <td>859.511512</td>\n",
       "      <td>-16.473473</td>\n",
       "      <td>-420.0</td>\n",
       "      <td>1.526241e+09</td>\n",
       "      <td>-4.457457</td>\n",
       "      <td>0.218218</td>\n",
       "      <td>0.500000</td>\n",
       "    </tr>\n",
       "    <tr>\n",
       "      <th>std</th>\n",
       "      <td>3.985895</td>\n",
       "      <td>132.756812</td>\n",
       "      <td>641.278529</td>\n",
       "      <td>103.827990</td>\n",
       "      <td>0.0</td>\n",
       "      <td>2.056174e+09</td>\n",
       "      <td>110.695507</td>\n",
       "      <td>0.413140</td>\n",
       "      <td>0.500125</td>\n",
       "    </tr>\n",
       "    <tr>\n",
       "      <th>min</th>\n",
       "      <td>0.000000</td>\n",
       "      <td>-420.000000</td>\n",
       "      <td>-420.000000</td>\n",
       "      <td>-420.000000</td>\n",
       "      <td>-420.0</td>\n",
       "      <td>-4.200000e+02</td>\n",
       "      <td>-420.000000</td>\n",
       "      <td>0.000000</td>\n",
       "      <td>0.000000</td>\n",
       "    </tr>\n",
       "    <tr>\n",
       "      <th>25%</th>\n",
       "      <td>2.591230</td>\n",
       "      <td>322.000000</td>\n",
       "      <td>266.000000</td>\n",
       "      <td>10.000000</td>\n",
       "      <td>-420.0</td>\n",
       "      <td>2.534000e+03</td>\n",
       "      <td>19.000000</td>\n",
       "      <td>0.000000</td>\n",
       "      <td>0.000000</td>\n",
       "    </tr>\n",
       "    <tr>\n",
       "      <th>50%</th>\n",
       "      <td>5.343774</td>\n",
       "      <td>394.000000</td>\n",
       "      <td>670.000000</td>\n",
       "      <td>10.000000</td>\n",
       "      <td>-420.0</td>\n",
       "      <td>3.546000e+03</td>\n",
       "      <td>23.000000</td>\n",
       "      <td>0.000000</td>\n",
       "      <td>0.500000</td>\n",
       "    </tr>\n",
       "    <tr>\n",
       "      <th>75%</th>\n",
       "      <td>9.069673</td>\n",
       "      <td>492.000000</td>\n",
       "      <td>1581.750000</td>\n",
       "      <td>11.000000</td>\n",
       "      <td>-420.0</td>\n",
       "      <td>4.294967e+09</td>\n",
       "      <td>27.000000</td>\n",
       "      <td>0.000000</td>\n",
       "      <td>1.000000</td>\n",
       "    </tr>\n",
       "    <tr>\n",
       "      <th>max</th>\n",
       "      <td>14.027356</td>\n",
       "      <td>698.000000</td>\n",
       "      <td>1872.000000</td>\n",
       "      <td>11.000000</td>\n",
       "      <td>-420.0</td>\n",
       "      <td>4.294967e+09</td>\n",
       "      <td>40.000000</td>\n",
       "      <td>1.000000</td>\n",
       "      <td>1.000000</td>\n",
       "    </tr>\n",
       "  </tbody>\n",
       "</table>\n",
       "</div>"
      ],
      "text/plain": [
       "         Timestamp            X            Y  TOUCH_MAJOR  TOUCH_MINOR  \\\n",
       "count  1998.000000  1998.000000  1998.000000  1998.000000       1998.0   \n",
       "mean      5.923562   390.512012   859.511512   -16.473473       -420.0   \n",
       "std       3.985895   132.756812   641.278529   103.827990          0.0   \n",
       "min       0.000000  -420.000000  -420.000000  -420.000000       -420.0   \n",
       "25%       2.591230   322.000000   266.000000    10.000000       -420.0   \n",
       "50%       5.343774   394.000000   670.000000    10.000000       -420.0   \n",
       "75%       9.069673   492.000000  1581.750000    11.000000       -420.0   \n",
       "max      14.027356   698.000000  1872.000000    11.000000       -420.0   \n",
       "\n",
       "        TRACKING_ID     PRESSURE       FINGER         USER  \n",
       "count  1.998000e+03  1998.000000  1998.000000  1998.000000  \n",
       "mean   1.526241e+09    -4.457457     0.218218     0.500000  \n",
       "std    2.056174e+09   110.695507     0.413140     0.500125  \n",
       "min   -4.200000e+02  -420.000000     0.000000     0.000000  \n",
       "25%    2.534000e+03    19.000000     0.000000     0.000000  \n",
       "50%    3.546000e+03    23.000000     0.000000     0.500000  \n",
       "75%    4.294967e+09    27.000000     0.000000     1.000000  \n",
       "max    4.294967e+09    40.000000     1.000000     1.000000  "
      ]
     },
     "execution_count": 37,
     "metadata": {},
     "output_type": "execute_result"
    }
   ],
   "source": [
    "df.describe()"
   ]
  },
  {
   "cell_type": "markdown",
   "id": "7ddb430c",
   "metadata": {},
   "source": [
    "# Feature Extraction"
   ]
  },
  {
   "cell_type": "markdown",
   "id": "ea5706a0",
   "metadata": {},
   "source": [
    "Idk if this is feature extraction per say. But BTN_TOUCH needs to be converted to a numerical value"
   ]
  },
  {
   "cell_type": "markdown",
   "id": "d835395a",
   "metadata": {},
   "source": [
    "Maybe more of data cleaning..."
   ]
  },
  {
   "cell_type": "code",
   "execution_count": 64,
   "id": "235ace2b",
   "metadata": {},
   "outputs": [],
   "source": [
    "cat_feats = ['BTN_TOUCH']"
   ]
  },
  {
   "cell_type": "code",
   "execution_count": 45,
   "id": "046083a7",
   "metadata": {},
   "outputs": [],
   "source": [
    "final_data = pd.get_dummies(df,columns=cat_feats,drop_first=True)"
   ]
  },
  {
   "cell_type": "markdown",
   "id": "7a63b0fd",
   "metadata": {},
   "source": [
    "When we do drop_first=True it gets rid of the column for BTN_TOUCH_DOWN. I think this is so the columns are not perfect predictors of each other."
   ]
  },
  {
   "cell_type": "code",
   "execution_count": 59,
   "id": "b85766f8",
   "metadata": {},
   "outputs": [
    {
     "data": {
      "text/html": [
       "<div>\n",
       "<style scoped>\n",
       "    .dataframe tbody tr th:only-of-type {\n",
       "        vertical-align: middle;\n",
       "    }\n",
       "\n",
       "    .dataframe tbody tr th {\n",
       "        vertical-align: top;\n",
       "    }\n",
       "\n",
       "    .dataframe thead th {\n",
       "        text-align: right;\n",
       "    }\n",
       "</style>\n",
       "<table border=\"1\" class=\"dataframe\">\n",
       "  <thead>\n",
       "    <tr style=\"text-align: right;\">\n",
       "      <th></th>\n",
       "      <th>Timestamp</th>\n",
       "      <th>X</th>\n",
       "      <th>Y</th>\n",
       "      <th>TOUCH_MAJOR</th>\n",
       "      <th>TOUCH_MINOR</th>\n",
       "      <th>TRACKING_ID</th>\n",
       "      <th>PRESSURE</th>\n",
       "      <th>FINGER</th>\n",
       "      <th>USER</th>\n",
       "      <th>BTN_TOUCH_HELD</th>\n",
       "      <th>BTN_TOUCH_UP</th>\n",
       "    </tr>\n",
       "  </thead>\n",
       "  <tbody>\n",
       "    <tr>\n",
       "      <th>0</th>\n",
       "      <td>0.000000</td>\n",
       "      <td>350</td>\n",
       "      <td>1404</td>\n",
       "      <td>11</td>\n",
       "      <td>-420</td>\n",
       "      <td>2526</td>\n",
       "      <td>38</td>\n",
       "      <td>0</td>\n",
       "      <td>0</td>\n",
       "      <td>0</td>\n",
       "      <td>0</td>\n",
       "    </tr>\n",
       "    <tr>\n",
       "      <th>1</th>\n",
       "      <td>0.032676</td>\n",
       "      <td>348</td>\n",
       "      <td>1406</td>\n",
       "      <td>11</td>\n",
       "      <td>-420</td>\n",
       "      <td>2526</td>\n",
       "      <td>38</td>\n",
       "      <td>0</td>\n",
       "      <td>0</td>\n",
       "      <td>1</td>\n",
       "      <td>0</td>\n",
       "    </tr>\n",
       "    <tr>\n",
       "      <th>2</th>\n",
       "      <td>0.042109</td>\n",
       "      <td>347</td>\n",
       "      <td>1408</td>\n",
       "      <td>11</td>\n",
       "      <td>-420</td>\n",
       "      <td>2526</td>\n",
       "      <td>38</td>\n",
       "      <td>0</td>\n",
       "      <td>0</td>\n",
       "      <td>1</td>\n",
       "      <td>0</td>\n",
       "    </tr>\n",
       "    <tr>\n",
       "      <th>3</th>\n",
       "      <td>0.049881</td>\n",
       "      <td>344</td>\n",
       "      <td>1411</td>\n",
       "      <td>11</td>\n",
       "      <td>-420</td>\n",
       "      <td>2526</td>\n",
       "      <td>38</td>\n",
       "      <td>0</td>\n",
       "      <td>0</td>\n",
       "      <td>1</td>\n",
       "      <td>0</td>\n",
       "    </tr>\n",
       "    <tr>\n",
       "      <th>4</th>\n",
       "      <td>0.058581</td>\n",
       "      <td>340</td>\n",
       "      <td>1416</td>\n",
       "      <td>11</td>\n",
       "      <td>-420</td>\n",
       "      <td>2526</td>\n",
       "      <td>38</td>\n",
       "      <td>0</td>\n",
       "      <td>0</td>\n",
       "      <td>1</td>\n",
       "      <td>0</td>\n",
       "    </tr>\n",
       "  </tbody>\n",
       "</table>\n",
       "</div>"
      ],
      "text/plain": [
       "   Timestamp    X     Y  TOUCH_MAJOR  TOUCH_MINOR  TRACKING_ID  PRESSURE  \\\n",
       "0   0.000000  350  1404           11         -420         2526        38   \n",
       "1   0.032676  348  1406           11         -420         2526        38   \n",
       "2   0.042109  347  1408           11         -420         2526        38   \n",
       "3   0.049881  344  1411           11         -420         2526        38   \n",
       "4   0.058581  340  1416           11         -420         2526        38   \n",
       "\n",
       "   FINGER  USER  BTN_TOUCH_HELD  BTN_TOUCH_UP  \n",
       "0       0     0               0             0  \n",
       "1       0     0               1             0  \n",
       "2       0     0               1             0  \n",
       "3       0     0               1             0  \n",
       "4       0     0               1             0  "
      ]
     },
     "execution_count": 59,
     "metadata": {},
     "output_type": "execute_result"
    }
   ],
   "source": [
    "final_data.head()"
   ]
  },
  {
   "cell_type": "markdown",
   "id": "faea0cb2",
   "metadata": {},
   "source": [
    "Does the data need to be scaled? I don't see why it would need to be scaled but the Udemy KNN course example did scale the data"
   ]
  },
  {
   "cell_type": "markdown",
   "id": "07f2463d",
   "metadata": {},
   "source": [
    "# Real Feature Extraction"
   ]
  },
  {
   "cell_type": "code",
   "execution_count": null,
   "id": "d8341d2f",
   "metadata": {},
   "outputs": [],
   "source": []
  },
  {
   "cell_type": "markdown",
   "id": "7c03acd2",
   "metadata": {},
   "source": [
    "# Train Test Split"
   ]
  },
  {
   "cell_type": "markdown",
   "id": "cffded3b",
   "metadata": {},
   "source": [
    "70:30"
   ]
  },
  {
   "cell_type": "code",
   "execution_count": 53,
   "id": "c2f1a01d",
   "metadata": {},
   "outputs": [],
   "source": [
    "X = final_data\n",
    "y = final_data['USER']"
   ]
  },
  {
   "cell_type": "code",
   "execution_count": 54,
   "id": "6aa75a3b",
   "metadata": {},
   "outputs": [],
   "source": [
    "from sklearn.model_selection import train_test_split"
   ]
  },
  {
   "cell_type": "code",
   "execution_count": 55,
   "id": "0b0fa4e3",
   "metadata": {},
   "outputs": [],
   "source": [
    "X_train, X_test, y_train, y_test = train_test_split(X, y, test_size=0.3, random_state=101)"
   ]
  },
  {
   "cell_type": "markdown",
   "id": "24350366",
   "metadata": {},
   "source": [
    "# Using KNN"
   ]
  },
  {
   "cell_type": "code",
   "execution_count": 56,
   "id": "4ff61169",
   "metadata": {},
   "outputs": [],
   "source": [
    "from sklearn.neighbors import KNeighborsClassifier"
   ]
  },
  {
   "cell_type": "code",
   "execution_count": 57,
   "id": "273a60e2",
   "metadata": {},
   "outputs": [],
   "source": [
    "knn = KNeighborsClassifier(n_neighbors=1)"
   ]
  },
  {
   "cell_type": "code",
   "execution_count": 63,
   "id": "6401a533",
   "metadata": {},
   "outputs": [
    {
     "data": {
      "text/plain": [
       "KNeighborsClassifier(n_neighbors=1)"
      ]
     },
     "execution_count": 63,
     "metadata": {},
     "output_type": "execute_result"
    }
   ],
   "source": [
    "knn.fit(X_train, y_train)"
   ]
  },
  {
   "cell_type": "markdown",
   "id": "0e73b37c",
   "metadata": {},
   "source": [
    "# Predict and Evaluate"
   ]
  },
  {
   "cell_type": "code",
   "execution_count": 60,
   "id": "c83a9d4a",
   "metadata": {},
   "outputs": [],
   "source": [
    "pred = knn.predict(X_test)"
   ]
  },
  {
   "cell_type": "code",
   "execution_count": 61,
   "id": "3ec96942",
   "metadata": {},
   "outputs": [],
   "source": [
    "from sklearn.metrics import classification_report, confusion_matrix"
   ]
  },
  {
   "cell_type": "code",
   "execution_count": 62,
   "id": "32d12462",
   "metadata": {},
   "outputs": [
    {
     "name": "stdout",
     "output_type": "stream",
     "text": [
      "[[287   2]\n",
      " [  1 310]]\n"
     ]
    }
   ],
   "source": [
    "print(confusion_matrix(y_test, pred))"
   ]
  },
  {
   "cell_type": "code",
   "execution_count": null,
   "id": "c02978f8",
   "metadata": {},
   "outputs": [],
   "source": []
  },
  {
   "cell_type": "code",
   "execution_count": null,
   "id": "8fe80c30",
   "metadata": {},
   "outputs": [],
   "source": []
  },
  {
   "cell_type": "code",
   "execution_count": null,
   "id": "d6d4c741",
   "metadata": {},
   "outputs": [],
   "source": []
  },
  {
   "cell_type": "code",
   "execution_count": null,
   "id": "2db4ccfd",
   "metadata": {},
   "outputs": [],
   "source": []
  },
  {
   "cell_type": "code",
   "execution_count": null,
   "id": "3abf83ea",
   "metadata": {},
   "outputs": [],
   "source": []
  },
  {
   "cell_type": "code",
   "execution_count": null,
   "id": "ed2085bf",
   "metadata": {},
   "outputs": [],
   "source": []
  },
  {
   "cell_type": "code",
   "execution_count": null,
   "id": "fffda370",
   "metadata": {},
   "outputs": [],
   "source": []
  }
 ],
 "metadata": {
  "kernelspec": {
   "display_name": "Python 3 (ipykernel)",
   "language": "python",
   "name": "python3"
  },
  "language_info": {
   "codemirror_mode": {
    "name": "ipython",
    "version": 3
   },
   "file_extension": ".py",
   "mimetype": "text/x-python",
   "name": "python",
   "nbconvert_exporter": "python",
   "pygments_lexer": "ipython3",
   "version": "3.9.12"
  }
 },
 "nbformat": 4,
 "nbformat_minor": 5
}
