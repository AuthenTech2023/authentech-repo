{
 "cells": [
  {
   "cell_type": "markdown",
   "id": "c1d096c7",
   "metadata": {},
   "source": [
    "# Import Libraries"
   ]
  },
  {
   "cell_type": "code",
   "execution_count": 16,
   "id": "0b2c11dc",
   "metadata": {},
   "outputs": [],
   "source": [
    "import numpy as np\n",
    "import pandas as pd\n",
    "import sklearn as sk\n",
    "import seaborn as sb\n",
    "import matplotlib as plt\n",
    "from sklearn.preprocessing import StandardScaler\n",
    "%matplotlib inline"
   ]
  },
  {
   "cell_type": "markdown",
   "id": "7e55a9d8",
   "metadata": {},
   "source": [
    "# Pre Feature Extraction Processing"
   ]
  },
  {
   "cell_type": "code",
   "execution_count": 17,
   "id": "1b7ffe3e",
   "metadata": {},
   "outputs": [],
   "source": [
    "user = str(1)\n",
    "raw_data = pd.read_csv('../raw-data/vol' + user + '.csv')"
   ]
  },
  {
   "cell_type": "code",
   "execution_count": 18,
   "id": "a99eda1e",
   "metadata": {},
   "outputs": [],
   "source": [
    "raw_data.sort_values(['FINGER','Timestamp'],inplace=True,ignore_index=True)  # Sort values by finger first, then timestamp"
   ]
  },
  {
   "cell_type": "code",
   "execution_count": 19,
   "id": "31c84847",
   "metadata": {},
   "outputs": [],
   "source": [
    "raw_data.dropna(inplace=True,ignore_index=True)"
   ]
  },
  {
   "cell_type": "code",
   "execution_count": 20,
   "id": "c3db9ac3",
   "metadata": {},
   "outputs": [],
   "source": [
    "raw_data = pd.get_dummies(raw_data,columns=['BTN_TOUCH'],drop_first=True,dtype=int)  # drop first to prevent perfect predictor (overfitting)"
   ]
  },
  {
   "cell_type": "code",
   "execution_count": 21,
   "id": "d73377d3",
   "metadata": {},
   "outputs": [
    {
     "data": {
      "text/html": [
       "<div>\n",
       "<style scoped>\n",
       "    .dataframe tbody tr th:only-of-type {\n",
       "        vertical-align: middle;\n",
       "    }\n",
       "\n",
       "    .dataframe tbody tr th {\n",
       "        vertical-align: top;\n",
       "    }\n",
       "\n",
       "    .dataframe thead th {\n",
       "        text-align: right;\n",
       "    }\n",
       "</style>\n",
       "<table border=\"1\" class=\"dataframe\">\n",
       "  <thead>\n",
       "    <tr style=\"text-align: right;\">\n",
       "      <th></th>\n",
       "      <th>Timestamp</th>\n",
       "      <th>X</th>\n",
       "      <th>Y</th>\n",
       "      <th>TOUCH_MAJOR</th>\n",
       "      <th>TOUCH_MINOR</th>\n",
       "      <th>TRACKING_ID</th>\n",
       "      <th>PRESSURE</th>\n",
       "      <th>FINGER</th>\n",
       "      <th>BTN_TOUCH_HELD</th>\n",
       "      <th>BTN_TOUCH_UP</th>\n",
       "    </tr>\n",
       "  </thead>\n",
       "  <tbody>\n",
       "    <tr>\n",
       "      <th>59430</th>\n",
       "      <td>898.462922</td>\n",
       "      <td>708</td>\n",
       "      <td>1831</td>\n",
       "      <td>-420</td>\n",
       "      <td>-420</td>\n",
       "      <td>3509</td>\n",
       "      <td>23</td>\n",
       "      <td>1</td>\n",
       "      <td>1</td>\n",
       "      <td>0</td>\n",
       "    </tr>\n",
       "    <tr>\n",
       "      <th>59431</th>\n",
       "      <td>898.579649</td>\n",
       "      <td>708</td>\n",
       "      <td>1830</td>\n",
       "      <td>-420</td>\n",
       "      <td>-420</td>\n",
       "      <td>3509</td>\n",
       "      <td>23</td>\n",
       "      <td>1</td>\n",
       "      <td>1</td>\n",
       "      <td>0</td>\n",
       "    </tr>\n",
       "    <tr>\n",
       "      <th>59432</th>\n",
       "      <td>898.621411</td>\n",
       "      <td>710</td>\n",
       "      <td>1830</td>\n",
       "      <td>-420</td>\n",
       "      <td>-420</td>\n",
       "      <td>3509</td>\n",
       "      <td>23</td>\n",
       "      <td>1</td>\n",
       "      <td>1</td>\n",
       "      <td>0</td>\n",
       "    </tr>\n",
       "    <tr>\n",
       "      <th>59433</th>\n",
       "      <td>898.663272</td>\n",
       "      <td>710</td>\n",
       "      <td>1826</td>\n",
       "      <td>-420</td>\n",
       "      <td>-420</td>\n",
       "      <td>3509</td>\n",
       "      <td>23</td>\n",
       "      <td>1</td>\n",
       "      <td>1</td>\n",
       "      <td>0</td>\n",
       "    </tr>\n",
       "    <tr>\n",
       "      <th>59434</th>\n",
       "      <td>898.745893</td>\n",
       "      <td>710</td>\n",
       "      <td>1825</td>\n",
       "      <td>-420</td>\n",
       "      <td>-420</td>\n",
       "      <td>3509</td>\n",
       "      <td>23</td>\n",
       "      <td>1</td>\n",
       "      <td>1</td>\n",
       "      <td>0</td>\n",
       "    </tr>\n",
       "  </tbody>\n",
       "</table>\n",
       "</div>"
      ],
      "text/plain": [
       "        Timestamp    X     Y  TOUCH_MAJOR  TOUCH_MINOR  TRACKING_ID  PRESSURE  \\\n",
       "59430  898.462922  708  1831         -420         -420         3509        23   \n",
       "59431  898.579649  708  1830         -420         -420         3509        23   \n",
       "59432  898.621411  710  1830         -420         -420         3509        23   \n",
       "59433  898.663272  710  1826         -420         -420         3509        23   \n",
       "59434  898.745893  710  1825         -420         -420         3509        23   \n",
       "\n",
       "       FINGER  BTN_TOUCH_HELD  BTN_TOUCH_UP  \n",
       "59430       1               1             0  \n",
       "59431       1               1             0  \n",
       "59432       1               1             0  \n",
       "59433       1               1             0  \n",
       "59434       1               1             0  "
      ]
     },
     "execution_count": 21,
     "metadata": {},
     "output_type": "execute_result"
    }
   ],
   "source": [
    "raw_data.tail()"
   ]
  },
  {
   "cell_type": "code",
   "execution_count": null,
   "id": "5a82b274",
   "metadata": {},
   "outputs": [],
   "source": []
  }
 ],
 "metadata": {
  "kernelspec": {
   "display_name": "Python 3 (ipykernel)",
   "language": "python",
   "name": "python3"
  },
  "language_info": {
   "codemirror_mode": {
    "name": "ipython",
    "version": 3
   },
   "file_extension": ".py",
   "mimetype": "text/x-python",
   "name": "python",
   "nbconvert_exporter": "python",
   "pygments_lexer": "ipython3",
   "version": "3.11.5"
  }
 },
 "nbformat": 4,
 "nbformat_minor": 5
}
