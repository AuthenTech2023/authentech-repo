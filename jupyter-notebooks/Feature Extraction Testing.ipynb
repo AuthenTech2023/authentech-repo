{
 "cells": [
  {
   "cell_type": "code",
   "execution_count": 3,
   "id": "a9fc5df3",
   "metadata": {},
   "outputs": [],
   "source": [
    "import numpy as np\n",
    "import pandas as pd\n",
    "import sklearn as sk\n",
    "from sklearn.preprocessing import StandardScaler\n",
    "%matplotlib inline"
   ]
  },
  {
   "cell_type": "code",
   "execution_count": 4,
   "id": "eecefc5d",
   "metadata": {},
   "outputs": [],
   "source": [
    "GESTURE_SIZE = 10"
   ]
  },
  {
   "cell_type": "code",
   "execution_count": 5,
   "id": "e7a7062f",
   "metadata": {},
   "outputs": [],
   "source": [
    "user = str(1)\n",
    "raw_data = pd.read_csv('../raw-data/vol' + user + '.csv')"
   ]
  },
  {
   "cell_type": "code",
   "execution_count": 6,
   "id": "0eab4782",
   "metadata": {},
   "outputs": [],
   "source": [
    "raw_data = raw_data.sort_values(['FINGER','Timestamp'])  # Sort values by finger first, then timestamp"
   ]
  },
  {
   "cell_type": "code",
   "execution_count": 7,
   "id": "a3b268e7",
   "metadata": {},
   "outputs": [],
   "source": [
    "raw_data = pd.get_dummies(raw_data,columns=['BTN_TOUCH'],drop_first=True) # drop first to prevent perfect predictor (overfitting)"
   ]
  },
  {
   "cell_type": "markdown",
   "id": "784f4d10",
   "metadata": {},
   "source": [
    "# Feature Extraction"
   ]
  },
  {
   "cell_type": "code",
   "execution_count": 8,
   "id": "36c73ae4",
   "metadata": {},
   "outputs": [],
   "source": [
    "features = pd.DataFrame()  # final DF for features (sent to ML model)"
   ]
  },
  {
   "cell_type": "code",
   "execution_count": 9,
   "id": "d4bfc09f",
   "metadata": {},
   "outputs": [],
   "source": [
    "def extract_features(gesture):  # takes gestures and extracts features\n",
    "    gesture.insert(len(gesture.columns), \"X_Speed\", 0)\n",
    "    gesture.insert(len(gesture.columns), \"X_Acceleration\", 0)\n",
    "    gesture.insert(len(gesture.columns), \"Y_Speed\", 0)\n",
    "    gesture.insert(len(gesture.columns), \"Y_Acceleration\", 0)\n",
    "    gesture.insert(len(gesture.columns), \"Speed\", 0)\n",
    "    gesture.insert(len(gesture.columns), \"Acceleration\", 0)\n",
    "    gesture.insert(len(gesture.columns), \"Jerk\", 0)\n",
    "    gesture.insert(len(gesture.columns), \"Ang_V\", 0)\n",
    "    gesture.insert(len(gesture.columns), \"Path_Tangent\", 0)\n",
    "    gesture['X_Speed'] = (gesture.X - gesture.X.shift(1)) / (gesture.Timestamp - gesture.Timestamp.shift(1))\n",
    "    gesture['Y_Speed'] = (gesture.Y - gesture.Y.shift(1)) / (gesture.Timestamp - gesture.Timestamp.shift(1))\n",
    "    gesture['Speed'] = np.sqrt((gesture.X_Speed ** 2) + (gesture.Y_Speed ** 2))\n",
    "    gesture['X_Acceleration'] = (gesture.X_Speed - gesture.X_Speed.shift(1)) / (\n",
    "                gesture.Timestamp - gesture.Timestamp.shift(1))\n",
    "    gesture['Y_Acceleration'] = (gesture.Y_Speed - gesture.Y_Speed.shift(1)) / (\n",
    "                gesture.Timestamp - gesture.Timestamp.shift(1))\n",
    "    gesture['Acceleration'] = (gesture.Speed - gesture.Speed.shift(1)) / (\n",
    "                gesture.Timestamp - gesture.Timestamp.shift(1))\n",
    "    gesture['Jerk'] = (gesture.Acceleration - gesture.Acceleration.shift(1)) / (\n",
    "                gesture.Timestamp - gesture.Timestamp.shift(1))\n",
    "    gesture['Path_Tangent'] = np.arctan2((gesture.Y - gesture.Y.shift(1)), (gesture.X - gesture.X.shift(1)))\n",
    "    gesture['Ang_V'] = (gesture.Path_Tangent - gesture.Path_Tangent.shift(1)) / (\n",
    "                gesture.Timestamp - gesture.Timestamp.shift(1))\n",
    "\n",
    "    return gesture\n"
   ]
  },
  {
   "cell_type": "code",
   "execution_count": 10,
   "id": "f4f2f725",
   "metadata": {},
   "outputs": [],
   "source": [
    "temp = pd.DataFrame()"
   ]
  },
  {
   "cell_type": "code",
   "execution_count": 11,
   "id": "8ab1db21",
   "metadata": {},
   "outputs": [
    {
     "ename": "TypeError",
     "evalue": "concat() takes 1 positional argument but 2 were given",
     "output_type": "error",
     "traceback": [
      "\u001b[1;31m---------------------------------------------------------------------------\u001b[0m",
      "\u001b[1;31mTypeError\u001b[0m                                 Traceback (most recent call last)",
      "Cell \u001b[1;32mIn[11], line 4\u001b[0m\n\u001b[0;32m      2\u001b[0m     row \u001b[38;5;241m=\u001b[39m pd\u001b[38;5;241m.\u001b[39mSeries(row)\n\u001b[0;32m      3\u001b[0m \u001b[38;5;66;03m#     print(row)\u001b[39;00m\n\u001b[1;32m----> 4\u001b[0m     pd\u001b[38;5;241m.\u001b[39mconcat(temp, row)\n",
      "\u001b[1;31mTypeError\u001b[0m: concat() takes 1 positional argument but 2 were given"
     ]
    }
   ],
   "source": [
    "for row in raw_data.iterrows():\n",
    "    row = pd.Series(row)\n",
    "#     print(row)\n",
    "    pd.concat(temp, row)"
   ]
  },
  {
   "cell_type": "code",
   "execution_count": null,
   "id": "31e712cb",
   "metadata": {},
   "outputs": [],
   "source": []
  }
 ],
 "metadata": {
  "kernelspec": {
   "display_name": "Python 3 (ipykernel)",
   "language": "python",
   "name": "python3"
  },
  "language_info": {
   "codemirror_mode": {
    "name": "ipython",
    "version": 3
   },
   "file_extension": ".py",
   "mimetype": "text/x-python",
   "name": "python",
   "nbconvert_exporter": "python",
   "pygments_lexer": "ipython3",
   "version": "3.11.5"
  }
 },
 "nbformat": 4,
 "nbformat_minor": 5
}
