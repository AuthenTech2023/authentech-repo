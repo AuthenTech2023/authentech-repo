{
 "cells": [
  {
   "cell_type": "markdown",
   "id": "4911eb99",
   "metadata": {},
   "source": [
    "# Import Raw Data"
   ]
  },
  {
   "cell_type": "code",
   "execution_count": 1,
   "id": "2f94d7c6",
   "metadata": {},
   "outputs": [],
   "source": [
    "import numpy as np\n",
    "import pandas as pd\n",
    "import sklearn as sk\n",
    "from sklearn.preprocessing import StandardScaler\n",
    "%matplotlib inline"
   ]
  },
  {
   "cell_type": "code",
   "execution_count": 2,
   "id": "4fd92b80",
   "metadata": {},
   "outputs": [],
   "source": [
    "GESTURE_SIZE = 10"
   ]
  },
  {
   "cell_type": "code",
   "execution_count": 5,
   "id": "55d70f55",
   "metadata": {},
   "outputs": [],
   "source": [
    "user = str(1)\n",
    "raw_data = pd.read_csv('../raw-data/vol' + user + '.csv')"
   ]
  },
  {
   "cell_type": "code",
   "execution_count": 6,
   "id": "ad37dd42",
   "metadata": {},
   "outputs": [
    {
     "data": {
      "text/html": [
       "<div>\n",
       "<style scoped>\n",
       "    .dataframe tbody tr th:only-of-type {\n",
       "        vertical-align: middle;\n",
       "    }\n",
       "\n",
       "    .dataframe tbody tr th {\n",
       "        vertical-align: top;\n",
       "    }\n",
       "\n",
       "    .dataframe thead th {\n",
       "        text-align: right;\n",
       "    }\n",
       "</style>\n",
       "<table border=\"1\" class=\"dataframe\">\n",
       "  <thead>\n",
       "    <tr style=\"text-align: right;\">\n",
       "      <th></th>\n",
       "      <th>Timestamp</th>\n",
       "      <th>X</th>\n",
       "      <th>Y</th>\n",
       "      <th>BTN_TOUCH</th>\n",
       "      <th>TOUCH_MAJOR</th>\n",
       "      <th>TOUCH_MINOR</th>\n",
       "      <th>TRACKING_ID</th>\n",
       "      <th>PRESSURE</th>\n",
       "      <th>FINGER</th>\n",
       "    </tr>\n",
       "  </thead>\n",
       "  <tbody>\n",
       "    <tr>\n",
       "      <th>0</th>\n",
       "      <td>0.000000</td>\n",
       "      <td>350</td>\n",
       "      <td>1404</td>\n",
       "      <td>DOWN</td>\n",
       "      <td>11</td>\n",
       "      <td>-420</td>\n",
       "      <td>2526</td>\n",
       "      <td>38</td>\n",
       "      <td>0</td>\n",
       "    </tr>\n",
       "    <tr>\n",
       "      <th>1</th>\n",
       "      <td>0.032676</td>\n",
       "      <td>348</td>\n",
       "      <td>1406</td>\n",
       "      <td>HELD</td>\n",
       "      <td>11</td>\n",
       "      <td>-420</td>\n",
       "      <td>2526</td>\n",
       "      <td>38</td>\n",
       "      <td>0</td>\n",
       "    </tr>\n",
       "    <tr>\n",
       "      <th>2</th>\n",
       "      <td>0.042109</td>\n",
       "      <td>347</td>\n",
       "      <td>1408</td>\n",
       "      <td>HELD</td>\n",
       "      <td>11</td>\n",
       "      <td>-420</td>\n",
       "      <td>2526</td>\n",
       "      <td>38</td>\n",
       "      <td>0</td>\n",
       "    </tr>\n",
       "    <tr>\n",
       "      <th>3</th>\n",
       "      <td>0.049881</td>\n",
       "      <td>344</td>\n",
       "      <td>1411</td>\n",
       "      <td>HELD</td>\n",
       "      <td>11</td>\n",
       "      <td>-420</td>\n",
       "      <td>2526</td>\n",
       "      <td>38</td>\n",
       "      <td>0</td>\n",
       "    </tr>\n",
       "    <tr>\n",
       "      <th>4</th>\n",
       "      <td>0.058581</td>\n",
       "      <td>340</td>\n",
       "      <td>1416</td>\n",
       "      <td>HELD</td>\n",
       "      <td>11</td>\n",
       "      <td>-420</td>\n",
       "      <td>2526</td>\n",
       "      <td>38</td>\n",
       "      <td>0</td>\n",
       "    </tr>\n",
       "  </tbody>\n",
       "</table>\n",
       "</div>"
      ],
      "text/plain": [
       "   Timestamp    X     Y BTN_TOUCH  TOUCH_MAJOR  TOUCH_MINOR  TRACKING_ID  \\\n",
       "0   0.000000  350  1404      DOWN           11         -420         2526   \n",
       "1   0.032676  348  1406      HELD           11         -420         2526   \n",
       "2   0.042109  347  1408      HELD           11         -420         2526   \n",
       "3   0.049881  344  1411      HELD           11         -420         2526   \n",
       "4   0.058581  340  1416      HELD           11         -420         2526   \n",
       "\n",
       "   PRESSURE  FINGER  \n",
       "0        38       0  \n",
       "1        38       0  \n",
       "2        38       0  \n",
       "3        38       0  \n",
       "4        38       0  "
      ]
     },
     "execution_count": 6,
     "metadata": {},
     "output_type": "execute_result"
    }
   ],
   "source": [
    "raw_data.head()"
   ]
  },
  {
   "cell_type": "markdown",
   "id": "5314c862",
   "metadata": {},
   "source": [
    "# Prelim Data Cleaning"
   ]
  },
  {
   "cell_type": "code",
   "execution_count": 7,
   "id": "ed2a0482",
   "metadata": {},
   "outputs": [],
   "source": [
    "raw_data.sort_values(['FINGER','Timestamp'],inplace=True)  # Sort values by finger first, then timestamp"
   ]
  },
  {
   "cell_type": "code",
   "execution_count": 8,
   "id": "3efc7693",
   "metadata": {},
   "outputs": [],
   "source": [
    "raw_data.dropna(inplace=True)"
   ]
  },
  {
   "cell_type": "code",
   "execution_count": 9,
   "id": "6f56d5ad",
   "metadata": {},
   "outputs": [],
   "source": [
    "raw_data = pd.get_dummies(raw_data,columns=['BTN_TOUCH'],drop_first=True)  # drop first to prevent perfect predictor (overfitting)"
   ]
  },
  {
   "cell_type": "markdown",
   "id": "94175158",
   "metadata": {},
   "source": [
    "# Feature Extraction"
   ]
  },
  {
   "cell_type": "markdown",
   "id": "bd451747",
   "metadata": {},
   "source": [
    "Feature Extraction Function"
   ]
  },
  {
   "cell_type": "code",
   "execution_count": 119,
   "id": "dada9bce",
   "metadata": {},
   "outputs": [],
   "source": [
    "features = pd.DataFrame(columns=raw_data.columns)  # dataframe holding features for each gesture per row\n",
    "features.insert(len(features.columns), \"X_Speed\", 0)\n",
    "features.insert(len(features.columns), \"X_Acceleration\", 0)\n",
    "features.insert(len(features.columns), \"Y_Speed\", 0)\n",
    "features.insert(len(features.columns), \"Y_Acceleration\", 0)\n",
    "features.insert(len(features.columns), \"Speed\", 0)\n",
    "features.insert(len(features.columns), \"Acceleration\", 0)\n",
    "features.insert(len(features.columns), \"Jerk\", 0)"
   ]
  },
  {
   "cell_type": "code",
   "execution_count": 120,
   "id": "6f8f0a54",
   "metadata": {},
   "outputs": [],
   "source": [
    "def extract_features(gesture):\n",
    "#     if type(gesture) != pd.DataFrame():\n",
    "#         print(\"Error: Not DF\")\n",
    "    print(type(gesture))\n",
    "    gesture.insert(len(gesture.columns), \"X_Speed\", 0)\n",
    "    gesture.insert(len(gesture.columns), \"X_Acceleration\", 0)\n",
    "    gesture.insert(len(gesture.columns), \"Y_Speed\", 0)\n",
    "    gesture.insert(len(gesture.columns), \"Y_Acceleration\", 0)\n",
    "    gesture.insert(len(gesture.columns), \"Speed\", 0)\n",
    "    gesture.insert(len(gesture.columns), \"Acceleration\", 0)\n",
    "    gesture.insert(len(gesture.columns), \"Jerk\", 0)\n",
    "#     gesture.insert(len(gesture.columns), \"Ang_V\", 0)\n",
    "#     gesture.insert(len(gesture.columns), \"Path_Tangent\", 0)\n",
    "    \n",
    "    gesture['X_Speed'] = (gesture.X - gesture.X.shift(1)) / (gesture.Timestamp - gesture.Timestamp.shift(1))\n",
    "    gesture['Y_Speed'] = (gesture.Y - gesture.Y.shift(1)) / (gesture.Timestamp - gesture.Timestamp.shift(1))\n",
    "    gesture['Speed'] = ((gesture.X_Speed ** 2) + (gesture.Y_Speed ** 2))**0.5\n",
    "    gesture['X_Acceleration'] = (gesture.X_Speed - gesture.X_Speed.shift(1)) / (\n",
    "                gesture.Timestamp - gesture.Timestamp.shift(1))\n",
    "    gesture['Y_Acceleration'] = (gesture.Y_Speed - gesture.Y_Speed.shift(1)) / (\n",
    "                gesture.Timestamp - gesture.Timestamp.shift(1))\n",
    "    gesture['Acceleration'] = (gesture.Speed - gesture.Speed.shift(1)) / (\n",
    "                gesture.Timestamp - gesture.Timestamp.shift(1))\n",
    "    gesture['Jerk'] = (gesture.Acceleration - gesture.Acceleration.shift(1)) / (\n",
    "                gesture.Timestamp - gesture.Timestamp.shift(1))\n",
    "#     gesture['Path_Tangent'] = np.arctan2((gesture.Y - gesture.Y.shift(1)), (gesture.X - gesture.X.shift(1)))\n",
    "#     gesture['Ang_V'] = (gesture.Path_Tangent - gesture.Path_Tangent.shift(1)) / (\n",
    "#                 gesture.Timestamp - gesture.Timestamp.shift(1))\n",
    "\n",
    "    return gesture"
   ]
  },
  {
   "cell_type": "code",
   "execution_count": 121,
   "id": "7c7976e3",
   "metadata": {},
   "outputs": [],
   "source": [
    "current_gesture = pd.DataFrame(columns=raw_data.columns)  # dataframe holding all rows of raw data for a single gesture"
   ]
  },
  {
   "cell_type": "code",
   "execution_count": 125,
   "id": "bb063890",
   "metadata": {},
   "outputs": [
    {
     "data": {
      "text/html": [
       "<div>\n",
       "<style scoped>\n",
       "    .dataframe tbody tr th:only-of-type {\n",
       "        vertical-align: middle;\n",
       "    }\n",
       "\n",
       "    .dataframe tbody tr th {\n",
       "        vertical-align: top;\n",
       "    }\n",
       "\n",
       "    .dataframe thead th {\n",
       "        text-align: right;\n",
       "    }\n",
       "</style>\n",
       "<table border=\"1\" class=\"dataframe\">\n",
       "  <thead>\n",
       "    <tr style=\"text-align: right;\">\n",
       "      <th></th>\n",
       "      <th>Timestamp</th>\n",
       "      <th>X</th>\n",
       "      <th>Y</th>\n",
       "      <th>TOUCH_MAJOR</th>\n",
       "      <th>TOUCH_MINOR</th>\n",
       "      <th>TRACKING_ID</th>\n",
       "      <th>PRESSURE</th>\n",
       "      <th>FINGER</th>\n",
       "      <th>BTN_TOUCH_HELD</th>\n",
       "      <th>BTN_TOUCH_UP</th>\n",
       "      <th>X_Speed</th>\n",
       "      <th>X_Acceleration</th>\n",
       "      <th>Y_Speed</th>\n",
       "      <th>Y_Acceleration</th>\n",
       "      <th>Speed</th>\n",
       "      <th>Acceleration</th>\n",
       "      <th>Jerk</th>\n",
       "    </tr>\n",
       "  </thead>\n",
       "  <tbody>\n",
       "    <tr>\n",
       "      <th>5</th>\n",
       "      <td>0.066807</td>\n",
       "      <td>335</td>\n",
       "      <td>1420</td>\n",
       "      <td>11</td>\n",
       "      <td>-420</td>\n",
       "      <td>2526</td>\n",
       "      <td>38</td>\n",
       "      <td>0</td>\n",
       "      <td>True</td>\n",
       "      <td>False</td>\n",
       "      <td>-607.828835</td>\n",
       "      <td>-17998.871928</td>\n",
       "      <td>486.263068</td>\n",
       "      <td>-10752.440473</td>\n",
       "      <td>778.40071</td>\n",
       "      <td>5155.533432</td>\n",
       "      <td>-2029593.020929</td>\n",
       "    </tr>\n",
       "    <tr>\n",
       "      <th>6</th>\n",
       "      <td>0.075273</td>\n",
       "      <td>330</td>\n",
       "      <td>1424</td>\n",
       "      <td>11</td>\n",
       "      <td>-420</td>\n",
       "      <td>2526</td>\n",
       "      <td>38</td>\n",
       "      <td>0</td>\n",
       "      <td>True</td>\n",
       "      <td>False</td>\n",
       "      <td>-590.597685</td>\n",
       "      <td>2035.335519</td>\n",
       "      <td>472.478148</td>\n",
       "      <td>-1628.268415</td>\n",
       "      <td>756.33407</td>\n",
       "      <td>-2606.501238</td>\n",
       "      <td>-916847.941237</td>\n",
       "    </tr>\n",
       "    <tr>\n",
       "      <th>7</th>\n",
       "      <td>0.083722</td>\n",
       "      <td>324</td>\n",
       "      <td>1428</td>\n",
       "      <td>11</td>\n",
       "      <td>-420</td>\n",
       "      <td>2526</td>\n",
       "      <td>38</td>\n",
       "      <td>0</td>\n",
       "      <td>True</td>\n",
       "      <td>False</td>\n",
       "      <td>-710.143212</td>\n",
       "      <td>-14149.074119</td>\n",
       "      <td>473.428808</td>\n",
       "      <td>112.517478</td>\n",
       "      <td>853.485921</td>\n",
       "      <td>11498.621289</td>\n",
       "      <td>1669442.836526</td>\n",
       "    </tr>\n",
       "    <tr>\n",
       "      <th>8</th>\n",
       "      <td>0.092127</td>\n",
       "      <td>319</td>\n",
       "      <td>1434</td>\n",
       "      <td>11</td>\n",
       "      <td>-420</td>\n",
       "      <td>2526</td>\n",
       "      <td>38</td>\n",
       "      <td>0</td>\n",
       "      <td>True</td>\n",
       "      <td>False</td>\n",
       "      <td>-594.883998</td>\n",
       "      <td>13713.172463</td>\n",
       "      <td>713.860797</td>\n",
       "      <td>28605.828554</td>\n",
       "      <td>929.23851</td>\n",
       "      <td>9012.800527</td>\n",
       "      <td>-295754.998432</td>\n",
       "    </tr>\n",
       "    <tr>\n",
       "      <th>9</th>\n",
       "      <td>0.099437</td>\n",
       "      <td>313</td>\n",
       "      <td>1438</td>\n",
       "      <td>11</td>\n",
       "      <td>-420</td>\n",
       "      <td>2526</td>\n",
       "      <td>38</td>\n",
       "      <td>0</td>\n",
       "      <td>True</td>\n",
       "      <td>False</td>\n",
       "      <td>-820.793434</td>\n",
       "      <td>-30904.163639</td>\n",
       "      <td>547.195623</td>\n",
       "      <td>-22799.613491</td>\n",
       "      <td>986.470937</td>\n",
       "      <td>7829.333443</td>\n",
       "      <td>-161897.001963</td>\n",
       "    </tr>\n",
       "  </tbody>\n",
       "</table>\n",
       "</div>"
      ],
      "text/plain": [
       "  Timestamp    X     Y TOUCH_MAJOR TOUCH_MINOR TRACKING_ID PRESSURE FINGER  \\\n",
       "5  0.066807  335  1420          11        -420        2526       38      0   \n",
       "6  0.075273  330  1424          11        -420        2526       38      0   \n",
       "7  0.083722  324  1428          11        -420        2526       38      0   \n",
       "8  0.092127  319  1434          11        -420        2526       38      0   \n",
       "9  0.099437  313  1438          11        -420        2526       38      0   \n",
       "\n",
       "  BTN_TOUCH_HELD BTN_TOUCH_UP     X_Speed X_Acceleration     Y_Speed  \\\n",
       "5           True        False -607.828835  -17998.871928  486.263068   \n",
       "6           True        False -590.597685    2035.335519  472.478148   \n",
       "7           True        False -710.143212  -14149.074119  473.428808   \n",
       "8           True        False -594.883998   13713.172463  713.860797   \n",
       "9           True        False -820.793434  -30904.163639  547.195623   \n",
       "\n",
       "  Y_Acceleration       Speed  Acceleration            Jerk  \n",
       "5  -10752.440473   778.40071   5155.533432 -2029593.020929  \n",
       "6   -1628.268415   756.33407  -2606.501238  -916847.941237  \n",
       "7     112.517478  853.485921  11498.621289  1669442.836526  \n",
       "8   28605.828554   929.23851   9012.800527  -295754.998432  \n",
       "9  -22799.613491  986.470937   7829.333443  -161897.001963  "
      ]
     },
     "execution_count": 125,
     "metadata": {},
     "output_type": "execute_result"
    }
   ],
   "source": [
    "current_gesture.tail()"
   ]
  },
  {
   "cell_type": "code",
   "execution_count": 123,
   "id": "cedd3fef",
   "metadata": {},
   "outputs": [
    {
     "data": {
      "text/plain": [
       "0"
      ]
     },
     "execution_count": 123,
     "metadata": {},
     "output_type": "execute_result"
    }
   ],
   "source": [
    "len(current_gesture)"
   ]
  },
  {
   "cell_type": "code",
   "execution_count": 124,
   "id": "de14c7a3",
   "metadata": {},
   "outputs": [
    {
     "name": "stdout",
     "output_type": "stream",
     "text": [
      "<class 'pandas.core.frame.DataFrame'>\n"
     ]
    },
    {
     "ename": "ValueError",
     "evalue": "cannot set a row with mismatched columns",
     "output_type": "error",
     "traceback": [
      "\u001b[1;31m---------------------------------------------------------------------------\u001b[0m",
      "\u001b[1;31mValueError\u001b[0m                                Traceback (most recent call last)",
      "Cell \u001b[1;32mIn[124], line 3\u001b[0m\n\u001b[0;32m      1\u001b[0m \u001b[38;5;28;01mfor\u001b[39;00m row \u001b[38;5;129;01min\u001b[39;00m raw_data\u001b[38;5;241m.\u001b[39mvalues:\n\u001b[0;32m      2\u001b[0m     \u001b[38;5;28;01mif\u001b[39;00m \u001b[38;5;28mlen\u001b[39m(current_gesture) \u001b[38;5;241m>\u001b[39m\u001b[38;5;241m=\u001b[39m GESTURE_SIZE:  \u001b[38;5;66;03m# todo: include lifting finger as condition? and switching fingers\u001b[39;00m\n\u001b[1;32m----> 3\u001b[0m         features\u001b[38;5;241m.\u001b[39mloc[\u001b[38;5;28mlen\u001b[39m(features\u001b[38;5;241m.\u001b[39mindex)] \u001b[38;5;241m=\u001b[39m extract_features(current_gesture)  \u001b[38;5;66;03m# append extracted features to features\u001b[39;00m\n\u001b[0;32m      4\u001b[0m \u001b[38;5;66;03m#         print(features.loc[len(features.index)])\u001b[39;00m\n\u001b[0;32m      5\u001b[0m         current_gesture \u001b[38;5;241m=\u001b[39m pd\u001b[38;5;241m.\u001b[39mDataFrame(columns\u001b[38;5;241m=\u001b[39mcurrent_gesture\u001b[38;5;241m.\u001b[39mcolumns)  \u001b[38;5;66;03m# clear data but keep columns\u001b[39;00m\n",
      "File \u001b[1;32m~\\AppData\\Local\\anaconda3\\Lib\\site-packages\\pandas\\core\\indexing.py:849\u001b[0m, in \u001b[0;36m_LocationIndexer.__setitem__\u001b[1;34m(self, key, value)\u001b[0m\n\u001b[0;32m    846\u001b[0m \u001b[38;5;28mself\u001b[39m\u001b[38;5;241m.\u001b[39m_has_valid_setitem_indexer(key)\n\u001b[0;32m    848\u001b[0m iloc \u001b[38;5;241m=\u001b[39m \u001b[38;5;28mself\u001b[39m \u001b[38;5;28;01mif\u001b[39;00m \u001b[38;5;28mself\u001b[39m\u001b[38;5;241m.\u001b[39mname \u001b[38;5;241m==\u001b[39m \u001b[38;5;124m\"\u001b[39m\u001b[38;5;124miloc\u001b[39m\u001b[38;5;124m\"\u001b[39m \u001b[38;5;28;01melse\u001b[39;00m \u001b[38;5;28mself\u001b[39m\u001b[38;5;241m.\u001b[39mobj\u001b[38;5;241m.\u001b[39miloc\n\u001b[1;32m--> 849\u001b[0m iloc\u001b[38;5;241m.\u001b[39m_setitem_with_indexer(indexer, value, \u001b[38;5;28mself\u001b[39m\u001b[38;5;241m.\u001b[39mname)\n",
      "File \u001b[1;32m~\\AppData\\Local\\anaconda3\\Lib\\site-packages\\pandas\\core\\indexing.py:1825\u001b[0m, in \u001b[0;36m_iLocIndexer._setitem_with_indexer\u001b[1;34m(self, indexer, value, name)\u001b[0m\n\u001b[0;32m   1822\u001b[0m     indexer, missing \u001b[38;5;241m=\u001b[39m convert_missing_indexer(indexer)\n\u001b[0;32m   1824\u001b[0m     \u001b[38;5;28;01mif\u001b[39;00m missing:\n\u001b[1;32m-> 1825\u001b[0m         \u001b[38;5;28mself\u001b[39m\u001b[38;5;241m.\u001b[39m_setitem_with_indexer_missing(indexer, value)\n\u001b[0;32m   1826\u001b[0m         \u001b[38;5;28;01mreturn\u001b[39;00m\n\u001b[0;32m   1828\u001b[0m \u001b[38;5;28;01mif\u001b[39;00m name \u001b[38;5;241m==\u001b[39m \u001b[38;5;124m\"\u001b[39m\u001b[38;5;124mloc\u001b[39m\u001b[38;5;124m\"\u001b[39m:\n\u001b[0;32m   1829\u001b[0m     \u001b[38;5;66;03m# must come after setting of missing\u001b[39;00m\n",
      "File \u001b[1;32m~\\AppData\\Local\\anaconda3\\Lib\\site-packages\\pandas\\core\\indexing.py:2158\u001b[0m, in \u001b[0;36m_iLocIndexer._setitem_with_indexer_missing\u001b[1;34m(self, indexer, value)\u001b[0m\n\u001b[0;32m   2155\u001b[0m     \u001b[38;5;28;01mif\u001b[39;00m is_list_like_indexer(value):\n\u001b[0;32m   2156\u001b[0m         \u001b[38;5;66;03m# must have conforming columns\u001b[39;00m\n\u001b[0;32m   2157\u001b[0m         \u001b[38;5;28;01mif\u001b[39;00m \u001b[38;5;28mlen\u001b[39m(value) \u001b[38;5;241m!=\u001b[39m \u001b[38;5;28mlen\u001b[39m(\u001b[38;5;28mself\u001b[39m\u001b[38;5;241m.\u001b[39mobj\u001b[38;5;241m.\u001b[39mcolumns):\n\u001b[1;32m-> 2158\u001b[0m             \u001b[38;5;28;01mraise\u001b[39;00m \u001b[38;5;167;01mValueError\u001b[39;00m(\u001b[38;5;124m\"\u001b[39m\u001b[38;5;124mcannot set a row with mismatched columns\u001b[39m\u001b[38;5;124m\"\u001b[39m)\n\u001b[0;32m   2160\u001b[0m     value \u001b[38;5;241m=\u001b[39m Series(value, index\u001b[38;5;241m=\u001b[39m\u001b[38;5;28mself\u001b[39m\u001b[38;5;241m.\u001b[39mobj\u001b[38;5;241m.\u001b[39mcolumns, name\u001b[38;5;241m=\u001b[39mindexer)\n\u001b[0;32m   2162\u001b[0m \u001b[38;5;28;01mif\u001b[39;00m \u001b[38;5;129;01mnot\u001b[39;00m \u001b[38;5;28mlen\u001b[39m(\u001b[38;5;28mself\u001b[39m\u001b[38;5;241m.\u001b[39mobj):\n\u001b[0;32m   2163\u001b[0m     \u001b[38;5;66;03m# We will ignore the existing dtypes instead of using\u001b[39;00m\n\u001b[0;32m   2164\u001b[0m     \u001b[38;5;66;03m#  internals.concat logic\u001b[39;00m\n",
      "\u001b[1;31mValueError\u001b[0m: cannot set a row with mismatched columns"
     ]
    }
   ],
   "source": [
    "for row in raw_data.values:\n",
    "    if len(current_gesture) >= GESTURE_SIZE:  # todo: include lifting finger as condition? and switching fingers\n",
    "        features.loc[len(features.index)] = extract_features(current_gesture)  # append extracted features to features\n",
    "#         print(features.loc[len(features.index)])\n",
    "        current_gesture = pd.DataFrame(columns=current_gesture.columns)  # clear data but keep columns\n",
    "        continue\n",
    "    current_gesture.loc[len(current_gesture.index)] = row  # append row to current_gesture\n",
    "#     print(row)\n"
   ]
  },
  {
   "cell_type": "code",
   "execution_count": 38,
   "id": "689c4164",
   "metadata": {},
   "outputs": [
    {
     "data": {
      "text/html": [
       "<div>\n",
       "<style scoped>\n",
       "    .dataframe tbody tr th:only-of-type {\n",
       "        vertical-align: middle;\n",
       "    }\n",
       "\n",
       "    .dataframe tbody tr th {\n",
       "        vertical-align: top;\n",
       "    }\n",
       "\n",
       "    .dataframe thead th {\n",
       "        text-align: right;\n",
       "    }\n",
       "</style>\n",
       "<table border=\"1\" class=\"dataframe\">\n",
       "  <thead>\n",
       "    <tr style=\"text-align: right;\">\n",
       "      <th></th>\n",
       "      <th>Timestamp</th>\n",
       "      <th>X</th>\n",
       "      <th>Y</th>\n",
       "      <th>TOUCH_MAJOR</th>\n",
       "      <th>TOUCH_MINOR</th>\n",
       "      <th>TRACKING_ID</th>\n",
       "      <th>PRESSURE</th>\n",
       "      <th>FINGER</th>\n",
       "      <th>BTN_TOUCH_HELD</th>\n",
       "      <th>BTN_TOUCH_UP</th>\n",
       "    </tr>\n",
       "  </thead>\n",
       "  <tbody>\n",
       "  </tbody>\n",
       "</table>\n",
       "</div>"
      ],
      "text/plain": [
       "Empty DataFrame\n",
       "Columns: [Timestamp, X, Y, TOUCH_MAJOR, TOUCH_MINOR, TRACKING_ID, PRESSURE, FINGER, BTN_TOUCH_HELD, BTN_TOUCH_UP]\n",
       "Index: []"
      ]
     },
     "execution_count": 38,
     "metadata": {},
     "output_type": "execute_result"
    }
   ],
   "source": [
    "current_gesture.head()"
   ]
  },
  {
   "cell_type": "code",
   "execution_count": null,
   "id": "609f3245",
   "metadata": {},
   "outputs": [],
   "source": [
    "features.head()"
   ]
  }
 ],
 "metadata": {
  "kernelspec": {
   "display_name": "Python 3 (ipykernel)",
   "language": "python",
   "name": "python3"
  },
  "language_info": {
   "codemirror_mode": {
    "name": "ipython",
    "version": 3
   },
   "file_extension": ".py",
   "mimetype": "text/x-python",
   "name": "python",
   "nbconvert_exporter": "python",
   "pygments_lexer": "ipython3",
   "version": "3.11.5"
  }
 },
 "nbformat": 4,
 "nbformat_minor": 5
}
